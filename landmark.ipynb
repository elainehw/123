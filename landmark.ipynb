{
  "nbformat": 4,
  "nbformat_minor": 0,
  "metadata": {
    "colab": {
      "name": "landmark.ipynb",
      "provenance": [],
      "collapsed_sections": [],
      "include_colab_link": true
    },
    "kernelspec": {
      "display_name": "Python 3",
      "language": "python",
      "name": "python3"
    },
    "language_info": {
      "codemirror_mode": {
        "name": "ipython",
        "version": 3
      },
      "file_extension": ".py",
      "mimetype": "text/x-python",
      "name": "python",
      "nbconvert_exporter": "python",
      "pygments_lexer": "ipython3",
      "version": "3.7.1"
    }
  },
  "cells": [
    {
      "cell_type": "markdown",
      "metadata": {
        "id": "view-in-github",
        "colab_type": "text"
      },
      "source": [
        "<a href=\"https://colab.research.google.com/github/elainehw/123/blob/master/landmark.ipynb\" target=\"_parent\"><img src=\"https://colab.research.google.com/assets/colab-badge.svg\" alt=\"Open In Colab\"/></a>"
      ]
    },
    {
      "cell_type": "code",
      "metadata": {
        "colab_type": "code",
        "id": "Fk70yYiUfr_x",
        "colab": {}
      },
      "source": [
        "\n",
        "# Import PyDrive and associated libraries.\n",
        "# This only needs to be done once per notebook.\n",
        "from pydrive.auth import GoogleAuth\n",
        "from pydrive.drive import GoogleDrive\n",
        "from google.colab import auth\n",
        "from oauth2client.client import GoogleCredentials\n",
        "\n",
        "# Authenticate and create the PyDrive client.\n",
        "# This only needs to be done once per notebook.\n",
        "auth.authenticate_user()\n",
        "gauth = GoogleAuth()\n",
        "gauth.credentials = GoogleCredentials.get_application_default()\n",
        "drive = GoogleDrive(gauth)\n",
        "\n",
        "# Download a file based on its file ID.\n",
        "#\n",
        "# A file ID looks like: laggVyWshwcyP6kEI-y_W3P8D26sz\n",
        "file_id = 'REPLACE_WITH_YOUR_FILE_ID'\n",
        "downloaded = drive.CreateFile({'id': file_id})\n",
        "print('Downloaded content \"{}\"'.format(downloaded.GetContentString()))"
      ],
      "execution_count": 0,
      "outputs": []
    },
    {
      "cell_type": "code",
      "metadata": {
        "colab_type": "code",
        "id": "y4WLQB5MUV8A",
        "outputId": "76720584-7ed4-409e-b50e-8c04e73be683",
        "colab": {
          "base_uri": "https://localhost:8080/",
          "height": 34
        }
      },
      "source": [
        "!pip install dlib\n"
      ],
      "execution_count": 0,
      "outputs": [
        {
          "output_type": "stream",
          "text": [
            "Requirement already satisfied: dlib in /usr/local/lib/python3.6/dist-packages (19.16.0)\n"
          ],
          "name": "stdout"
        }
      ]
    },
    {
      "cell_type": "code",
      "metadata": {
        "colab_type": "code",
        "id": "Pa75FIYBfgdd",
        "outputId": "5376144a-e5d9-473d-f763-4a7dfbe853cf",
        "colab": {
          "base_uri": "https://localhost:8080/",
          "height": 123
        }
      },
      "source": [
        "from google.colab import drive\n",
        "drive.mount('/content/drive/')"
      ],
      "execution_count": 0,
      "outputs": [
        {
          "output_type": "stream",
          "text": [
            "Go to this URL in a browser: https://accounts.google.com/o/oauth2/auth?client_id=947318989803-6bn6qk8qdgf4n4g3pfee6491hc0brc4i.apps.googleusercontent.com&redirect_uri=urn%3Aietf%3Awg%3Aoauth%3A2.0%3Aoob&scope=email%20https%3A%2F%2Fwww.googleapis.com%2Fauth%2Fdocs.test%20https%3A%2F%2Fwww.googleapis.com%2Fauth%2Fdrive%20https%3A%2F%2Fwww.googleapis.com%2Fauth%2Fdrive.photos.readonly%20https%3A%2F%2Fwww.googleapis.com%2Fauth%2Fpeopleapi.readonly&response_type=code\n",
            "\n",
            "Enter your authorization code:\n",
            "··········\n",
            "Mounted at /content/drive/\n"
          ],
          "name": "stdout"
        }
      ]
    },
    {
      "cell_type": "code",
      "metadata": {
        "colab_type": "code",
        "id": "U4yqIqoRgMNn",
        "outputId": "14dadc81-c986-4a5c-961a-698ab3ef9539",
        "colab": {
          "base_uri": "https://localhost:8080/",
          "height": 86
        }
      },
      "source": [
        "!ls \"/content/drive/My Drive/Fall APM Project\""
      ],
      "execution_count": 0,
      "outputs": [
        {
          "output_type": "stream",
          "text": [
            " Facial_Landmark_Data   Outline.gdoc\t\t Results\n",
            "'Feature Extraction'    Pre-Processing\t\t Training\n",
            " Fold3_part2\t       'Project Ideas.gdoc'\t'Untitled presentation.gslides'\n",
            " Fold3_part2_img       'Project Proposal.gdoc'\n"
          ],
          "name": "stdout"
        }
      ]
    },
    {
      "cell_type": "code",
      "metadata": {
        "colab_type": "code",
        "id": "67tJctbBb9oM",
        "outputId": "e56cde67-751a-4158-fabf-f2e868ff5652",
        "colab": {
          "base_uri": "https://localhost:8080/",
          "height": 34
        }
      },
      "source": [
        "import imageio\n",
        "import matplotlib.pyplot as plt\n",
        "from mlxtend.image import extract_face_landmarks"
      ],
      "execution_count": 0,
      "outputs": [
        {
          "output_type": "stream",
          "text": [
            "Downloading http://dlib.net/files/shape_predictor_68_face_landmarks.dat.bz2 to /root/mlxtend_data/shape_predictor_68_face_landmarks.dat.bz2\n"
          ],
          "name": "stdout"
        }
      ]
    },
    {
      "cell_type": "code",
      "metadata": {
        "colab_type": "code",
        "id": "8DLpWAm-iTBm",
        "colab": {}
      },
      "source": [
        "data = []\n",
        "labels = []\n",
        "for i in [0,10]:\n",
        "  if i == 0 :\n",
        "    status = 0\n",
        "  else:\n",
        "    status = 1\n",
        "\n",
        "  for j in range(20):\n",
        "    try:\n",
        "      img = imageio.imread('drive/My Drive/Fall APM Project/Fold3_part2_img/31/' + str(i)+'/image'+str(j+1300) +'.jpg')\n",
        "      #break\n",
        "    except: \n",
        "      pass\n",
        "    landmarks = extract_face_landmarks(img)\n",
        "    data.append(landmarks[36:68])\n",
        "    labels.append([[status]]*32)\n",
        "  "
      ],
      "execution_count": 0,
      "outputs": []
    },
    {
      "cell_type": "code",
      "metadata": {
        "colab_type": "code",
        "id": "vtYV4X08V_uv",
        "outputId": "1058da86-cf12-44d5-83fa-f2928b7f88aa",
        "colab": {
          "base_uri": "https://localhost:8080/",
          "height": 1000
        }
      },
      "source": [
        "import cv2\n",
        "def getFrame(sec, i, j):\n",
        "    vidcap.set(cv2.CAP_PROP_POS_MSEC,sec*1000)\n",
        "    hasFrames,image = vidcap.read()\n",
        "    #if hasFrames:\n",
        "        #cv2.imwrite(\"Fold3_part2_img/\"+ str(j) +'/' + str(i) + \"/image\"+str(count)+\".jpg\", image)     # save frame as JPG file\n",
        "        #cv2.imwrite(\"hh/image\"+str(count)+\".jpg\", image) \n",
        "        #cv2.imshow('image',image)\n",
        "    return hasFrames, image\n",
        "\n",
        "data = []\n",
        "labels = []\n",
        "for j in [32]:\n",
        "    for i in [5]:\n",
        "        vidcap = cv2.VideoCapture('drive/My Drive/Fall APM Project/Fold3_part2/' + str(j) +'/' + str(i) + '.mp4')\n",
        "        sec = 0\n",
        "        frameRate = 600\n",
        "        count=1\n",
        "        success, image  = getFrame(sec, i, j)\n",
        "        while success:\n",
        "          landmarks = extract_face_landmarks(image)\n",
        "          data.append(landmarks[36:68])\n",
        "          labels.append([[i]]*32)\n",
        "          count = count + 1\n",
        "          sec = sec + frameRate\n",
        "          sec = round(sec, 2)\n",
        "          success, image = getFrame(sec , i, j)\n",
        "print(data)"
      ],
      "execution_count": 0,
      "outputs": [
        {
          "output_type": "stream",
          "text": [
            "[array([[510, 787],\n",
            "       [531, 778],\n",
            "       [556, 777],\n",
            "       [577, 791],\n",
            "       [555, 797],\n",
            "       [530, 797],\n",
            "       [668, 799],\n",
            "       [694, 790],\n",
            "       [719, 792],\n",
            "       [738, 805],\n",
            "       [718, 812],\n",
            "       [692, 809],\n",
            "       [534, 954],\n",
            "       [562, 937],\n",
            "       [589, 926],\n",
            "       [609, 932],\n",
            "       [629, 927],\n",
            "       [655, 943],\n",
            "       [682, 964],\n",
            "       [653, 976],\n",
            "       [628, 978],\n",
            "       [606, 978],\n",
            "       [585, 976],\n",
            "       [560, 969],\n",
            "       [546, 954],\n",
            "       [588, 949],\n",
            "       [607, 952],\n",
            "       [628, 951],\n",
            "       [670, 963],\n",
            "       [629, 953],\n",
            "       [608, 953],\n",
            "       [588, 950]], dtype=int32), array([[ 499,  878],\n",
            "       [ 518,  876],\n",
            "       [ 538,  873],\n",
            "       [ 558,  875],\n",
            "       [ 539,  883],\n",
            "       [ 518,  885],\n",
            "       [ 648,  878],\n",
            "       [ 670,  878],\n",
            "       [ 690,  879],\n",
            "       [ 709,  881],\n",
            "       [ 690,  889],\n",
            "       [ 669,  886],\n",
            "       [ 530, 1028],\n",
            "       [ 554, 1016],\n",
            "       [ 576, 1007],\n",
            "       [ 597, 1014],\n",
            "       [ 617, 1008],\n",
            "       [ 639, 1017],\n",
            "       [ 663, 1030],\n",
            "       [ 639, 1044],\n",
            "       [ 616, 1050],\n",
            "       [ 595, 1051],\n",
            "       [ 574, 1049],\n",
            "       [ 552, 1041],\n",
            "       [ 540, 1028],\n",
            "       [ 576, 1025],\n",
            "       [ 596, 1028],\n",
            "       [ 617, 1026],\n",
            "       [ 653, 1031],\n",
            "       [ 617, 1028],\n",
            "       [ 596, 1030],\n",
            "       [ 576, 1027]], dtype=int32)]\n"
          ],
          "name": "stdout"
        }
      ]
    },
    {
      "cell_type": "code",
      "metadata": {
        "colab_type": "code",
        "id": "LAIii_rLH14I",
        "colab": {}
      },
      "source": [
        "import numpy as np\n",
        "labels = np.array(labels)\n",
        "data = np.array(data)"
      ],
      "execution_count": 0,
      "outputs": []
    },
    {
      "cell_type": "code",
      "metadata": {
        "colab_type": "code",
        "id": "kavVyT51H8Wy",
        "outputId": "3c69ebeb-d263-4572-f3ff-cdfd3506b066",
        "colab": {
          "base_uri": "https://localhost:8080/",
          "height": 34
        }
      },
      "source": [
        "labels.shape"
      ],
      "execution_count": 0,
      "outputs": [
        {
          "output_type": "execute_result",
          "data": {
            "text/plain": [
              "(13, 32, 1)"
            ]
          },
          "metadata": {
            "tags": []
          },
          "execution_count": 19
        }
      ]
    },
    {
      "cell_type": "code",
      "metadata": {
        "colab_type": "code",
        "id": "DTQOy5-sIEhp",
        "outputId": "8be366ca-acc4-4806-c190-70cf4166465e",
        "colab": {
          "base_uri": "https://localhost:8080/",
          "height": 34
        }
      },
      "source": [
        "data.shape"
      ],
      "execution_count": 0,
      "outputs": [
        {
          "output_type": "execute_result",
          "data": {
            "text/plain": [
              "(13, 32, 2)"
            ]
          },
          "metadata": {
            "tags": []
          },
          "execution_count": 20
        }
      ]
    },
    {
      "cell_type": "code",
      "metadata": {
        "colab_type": "code",
        "id": "tyMMIj2QNncX",
        "colab": {}
      },
      "source": [
        "np.save(open('Labels.npy', 'wb'),labels)\n",
        "np.save(open('Data.npy', 'wb'),data)"
      ],
      "execution_count": 0,
      "outputs": []
    },
    {
      "cell_type": "code",
      "metadata": {
        "colab_type": "code",
        "id": "phYQZnEOOXyT",
        "colab": {}
      },
      "source": [
        "def download_file(file_id, file_name):\n",
        "    '''\n",
        "    file_id: Make sure that you can access this file from your account or else, this will not run\n",
        "    file_name: Name of the file by which you want to save\n",
        "    '''\n",
        "    downloaded = drive.CreateFile({'id': file_id})\n",
        "    downloaded.GetContentFile(file_name)\n",
        "    print('Downloaded file with ID {} and name {}'.format(file_id, file_name))"
      ],
      "execution_count": 0,
      "outputs": []
    },
    {
      "cell_type": "code",
      "metadata": {
        "colab_type": "code",
        "id": "KV7h6dyZOr4e",
        "colab": {}
      },
      "source": [
        "from google.colab import files\n",
        "files.download('Data.npy')"
      ],
      "execution_count": 0,
      "outputs": []
    },
    {
      "cell_type": "code",
      "metadata": {
        "colab_type": "code",
        "id": "Im8ioC91o-ZS",
        "colab": {}
      },
      "source": [
        "from keras.utils import plot_model\n",
        "from keras.models import Model\n",
        "from keras.layers import Input\n",
        "from keras.layers import Dense\n",
        "from keras.layers import Flatten\n",
        "from keras.layers.convolutional import Conv3D\n",
        "from keras.layers.pooling import MaxPooling3D\n",
        "from keras.models import Sequential\n",
        "visible = Input(shape=(10,12,12,1))\n",
        "conv1 = Conv3D(8, kernel_size=2, activation='relu')(visible)\n",
        "pool1 = MaxPooling3D(pool_size=(2, 2, 2))(conv1)\n",
        "flat1 = Flatten()(pool1)\n",
        "hidden1 = Dense(10, activation='relu')(flat1)\n",
        "output = Dense(2, activation='softmax')(hidden1)\n",
        "model = Model(inputs=visible, outputs=output)"
      ],
      "execution_count": 0,
      "outputs": []
    },
    {
      "cell_type": "code",
      "metadata": {
        "colab_type": "code",
        "id": "eUAE6sq20k5B",
        "outputId": "29e135c3-7f39-4c84-fbbf-d67fb8cd3385",
        "colab": {
          "base_uri": "https://localhost:8080/",
          "height": 1000
        }
      },
      "source": [
        "model = Sequential()\n",
        "model.add(Dense(32, activation='relu', input_shape=(32,2,)))\n",
        "model.add(Dense(1, activation='sigmoid'))\n",
        "model.compile(optimizer='rmsprop',\n",
        "              loss='binary_crossentropy',\n",
        "              metrics=['accuracy'])\n",
        "\n",
        "# Generate dummy data\n",
        "import numpy as np\n",
        "#data = np.random.random((1000, 100))\n",
        "#labels = np.random.randint(2, size=(1000, 1))\n",
        "\n",
        "# Train the model, iterating on the data in batches of 32 samples\n",
        "from keras.utils import to_categorical\n",
        "#print(labels.shape)\n",
        "\n",
        "#y_binary = to_categorical(labels)\n",
        "#print(y_binary.shape)\n",
        "model.fit(data, labels, epochs=30, batch_size=1)\n",
        "model.predict_classes(data)\n"
      ],
      "execution_count": 0,
      "outputs": [
        {
          "output_type": "stream",
          "text": [
            "Epoch 1/30\n",
            "40/40 [==============================] - 2s 60ms/step - loss: 8.0590 - acc: 0.5000  \n",
            "Epoch 2/30\n",
            "40/40 [==============================] - 0s 1ms/step - loss: 8.0590 - acc: 0.5000\n",
            "Epoch 3/30\n",
            "40/40 [==============================] - 0s 2ms/step - loss: 8.0590 - acc: 0.5000\n",
            "Epoch 4/30\n",
            "40/40 [==============================] - 0s 2ms/step - loss: 8.0590 - acc: 0.5000\n",
            "Epoch 5/30\n",
            "40/40 [==============================] - 0s 1ms/step - loss: 8.0590 - acc: 0.5000\n",
            "Epoch 6/30\n",
            "40/40 [==============================] - 0s 2ms/step - loss: 8.0590 - acc: 0.5000\n",
            "Epoch 7/30\n",
            "40/40 [==============================] - 0s 1ms/step - loss: 8.0590 - acc: 0.5000\n",
            "Epoch 8/30\n",
            "40/40 [==============================] - 0s 1ms/step - loss: 8.0590 - acc: 0.5000 \n",
            "Epoch 9/30\n",
            "40/40 [==============================] - 0s 1ms/step - loss: 8.0590 - acc: 0.5000\n",
            "Epoch 10/30\n",
            "40/40 [==============================] - 0s 2ms/step - loss: 8.0590 - acc: 0.5000\n",
            "Epoch 11/30\n",
            "40/40 [==============================] - 0s 1ms/step - loss: 8.0590 - acc: 0.5000\n",
            "Epoch 12/30\n",
            "40/40 [==============================] - 0s 1ms/step - loss: 8.0590 - acc: 0.5000\n",
            "Epoch 13/30\n",
            "40/40 [==============================] - 0s 2ms/step - loss: 8.0590 - acc: 0.5000\n",
            "Epoch 14/30\n",
            "40/40 [==============================] - 0s 2ms/step - loss: 8.0590 - acc: 0.5000\n",
            "Epoch 15/30\n",
            "40/40 [==============================] - 0s 1ms/step - loss: 8.0590 - acc: 0.5000\n",
            "Epoch 16/30\n",
            "40/40 [==============================] - 0s 2ms/step - loss: 8.0590 - acc: 0.5000\n",
            "Epoch 17/30\n",
            "40/40 [==============================] - 0s 1ms/step - loss: 8.0590 - acc: 0.5000\n",
            "Epoch 18/30\n",
            "40/40 [==============================] - 0s 2ms/step - loss: 8.0590 - acc: 0.5000\n",
            "Epoch 19/30\n",
            "40/40 [==============================] - 0s 1ms/step - loss: 8.0590 - acc: 0.5000 \n",
            "Epoch 20/30\n",
            "40/40 [==============================] - 0s 1ms/step - loss: 8.0590 - acc: 0.5000\n",
            "Epoch 21/30\n",
            "40/40 [==============================] - 0s 1ms/step - loss: 8.0590 - acc: 0.5000\n",
            "Epoch 22/30\n",
            "40/40 [==============================] - 0s 1ms/step - loss: 8.0590 - acc: 0.5000\n",
            "Epoch 23/30\n",
            "40/40 [==============================] - 0s 2ms/step - loss: 8.0590 - acc: 0.5000\n",
            "Epoch 24/30\n",
            "40/40 [==============================] - 0s 1ms/step - loss: 8.0590 - acc: 0.5000\n",
            "Epoch 25/30\n",
            "40/40 [==============================] - 0s 1ms/step - loss: 8.0590 - acc: 0.5000\n",
            "Epoch 26/30\n",
            "40/40 [==============================] - 0s 1ms/step - loss: 8.0590 - acc: 0.5000\n",
            "Epoch 27/30\n",
            "40/40 [==============================] - 0s 1ms/step - loss: 8.0590 - acc: 0.5000 \n",
            "Epoch 28/30\n",
            "40/40 [==============================] - 0s 1ms/step - loss: 8.0590 - acc: 0.5000\n",
            "Epoch 29/30\n",
            "40/40 [==============================] - 0s 2ms/step - loss: 8.0590 - acc: 0.5000\n",
            "Epoch 30/30\n",
            "40/40 [==============================] - 0s 1ms/step - loss: 8.0590 - acc: 0.5000\n"
          ],
          "name": "stdout"
        },
        {
          "output_type": "execute_result",
          "data": {
            "text/plain": [
              "array([[[0],\n",
              "        [0],\n",
              "        [0],\n",
              "        ...,\n",
              "        [0],\n",
              "        [0],\n",
              "        [0]],\n",
              "\n",
              "       [[0],\n",
              "        [0],\n",
              "        [0],\n",
              "        ...,\n",
              "        [0],\n",
              "        [0],\n",
              "        [0]],\n",
              "\n",
              "       [[0],\n",
              "        [0],\n",
              "        [0],\n",
              "        ...,\n",
              "        [0],\n",
              "        [0],\n",
              "        [0]],\n",
              "\n",
              "       ...,\n",
              "\n",
              "       [[0],\n",
              "        [0],\n",
              "        [0],\n",
              "        ...,\n",
              "        [0],\n",
              "        [0],\n",
              "        [0]],\n",
              "\n",
              "       [[0],\n",
              "        [0],\n",
              "        [0],\n",
              "        ...,\n",
              "        [0],\n",
              "        [0],\n",
              "        [0]],\n",
              "\n",
              "       [[0],\n",
              "        [0],\n",
              "        [0],\n",
              "        ...,\n",
              "        [0],\n",
              "        [0],\n",
              "        [0]]], dtype=int32)"
            ]
          },
          "metadata": {
            "tags": []
          },
          "execution_count": 262
        }
      ]
    },
    {
      "cell_type": "code",
      "metadata": {
        "colab_type": "code",
        "id": "dgZmLL1ly5PG",
        "outputId": "a0c24200-5e2c-400d-d0d0-dceeec284d7a",
        "colab": {
          "base_uri": "https://localhost:8080/",
          "height": 34
        }
      },
      "source": [
        "labels = [[[1]]*32]*10\n",
        "labels = np.array(labels)\n",
        "labels.shape\n"
      ],
      "execution_count": 0,
      "outputs": [
        {
          "output_type": "execute_result",
          "data": {
            "text/plain": [
              "(10, 32, 1)"
            ]
          },
          "metadata": {
            "tags": []
          },
          "execution_count": 156
        }
      ]
    },
    {
      "cell_type": "code",
      "metadata": {
        "colab_type": "code",
        "id": "gT02LgTH5ARo",
        "outputId": "0358603b-39af-4df5-8bc8-77d3ef0feaad",
        "colab": {
          "base_uri": "https://localhost:8080/",
          "height": 34
        }
      },
      "source": [
        "data = [landmarks[36:68]]*10\n",
        "data = np.array(data)\n",
        "data.shape"
      ],
      "execution_count": 0,
      "outputs": [
        {
          "output_type": "execute_result",
          "data": {
            "text/plain": [
              "(10, 32, 2)"
            ]
          },
          "metadata": {
            "tags": []
          },
          "execution_count": 155
        }
      ]
    },
    {
      "cell_type": "code",
      "metadata": {
        "colab_type": "code",
        "id": "eiGnp9nUcLHr",
        "outputId": "cecf5c6b-eddd-4fd3-af54-000396456784",
        "colab": {
          "base_uri": "https://localhost:8080/",
          "height": 324
        }
      },
      "source": [
        "fig = plt.figure(figsize=(15, 5))\n",
        "ax = fig.add_subplot(1, 3, 1)\n",
        "ax.imshow(img)\n",
        "ax = fig.add_subplot(1, 3, 2)\n",
        "ax.scatter(landmarks[:, 0], -landmarks[:, 1], alpha=0.8)\n",
        "ax = fig.add_subplot(1, 3, 3)\n",
        "img2 = img.copy()\n",
        "for p in landmarks:\n",
        "    img2[p[1]-3:p[1]+3,p[0]-3:p[0]+3,:] = (255, 255, 255)\n",
        "ax.imshow(img2)\n",
        "plt.show()"
      ],
      "execution_count": 0,
      "outputs": [
        {
          "output_type": "display_data",
          "data": {
            "image/png": "[encoded data removed]",
            "text/plain": [
              "<Figure size 1080x360 with 3 Axes>"
            ]
          },
          "metadata": {
            "tags": []
          }
        }
      ]
    },
    {
      "cell_type": "code",
      "metadata": {
        "colab_type": "code",
        "id": "viUpAFesfPuN",
        "outputId": "e638f671-d4e9-43b4-bdc0-f76066fec623",
        "colab": {
          "base_uri": "https://localhost:8080/",
          "height": 34
        }
      },
      "source": [
        "landmarks[1]\n",
        "A = dist.euclidean(eye[1], eye[5])\n",
        "B = dist.euclidean(eye[2], eye[4])\n",
        "\n",
        "\t# compute the euclidean distance between the horizontal\n",
        "\t# eye landmark (x, y)-coordinates\n",
        "C = dist.euclidean(eye[0], eye[3])\n",
        "\n",
        "\t# compute the eye aspect ratio\n",
        "ear = (A + B) / (2.0 * C)"
      ],
      "execution_count": 0,
      "outputs": [
        {
          "output_type": "execute_result",
          "data": {
            "text/plain": [
              "array([170, 192], dtype=int32)"
            ]
          },
          "metadata": {
            "tags": []
          },
          "execution_count": 14
        }
      ]
    },
    {
      "cell_type": "code",
      "metadata": {
        "id": "u2X98zUxZC3p",
        "colab_type": "code",
        "colab": {},
        "outputId": "45b0fb60-ef2e-4501-af3c-36320540f5a9"
      },
      "source": [
        "from keras.layers import Dense, Flatten, Dropout, ZeroPadding3D\n",
        "from keras.layers.recurrent import LSTM\n",
        "from keras.models import Sequential, load_model\n",
        "from keras.optimizers import Adam, RMSprop\n",
        "from keras.layers.wrappers import TimeDistributed\n",
        "from keras.layers.convolutional import (Conv2D, MaxPooling3D, Conv3D,\n",
        "    MaxPooling2D)\n",
        "from collections import deque\n",
        "import sys"
      ],
      "execution_count": 0,
      "outputs": [
        {
          "output_type": "error",
          "ename": "ModuleNotFoundError",
          "evalue": "No module named 'keras'",
          "traceback": [
            "\u001b[0;31m---------------------------------------------------------------------------\u001b[0m",
            "\u001b[0;31mModuleNotFoundError\u001b[0m                       Traceback (most recent call last)",
            "\u001b[0;32m<ipython-input-1-d3b8849e38ad>\u001b[0m in \u001b[0;36m<module>\u001b[0;34m\u001b[0m\n\u001b[0;32m----> 1\u001b[0;31m \u001b[0;32mfrom\u001b[0m \u001b[0mkeras\u001b[0m\u001b[0;34m.\u001b[0m\u001b[0mlayers\u001b[0m \u001b[0;32mimport\u001b[0m \u001b[0mDense\u001b[0m\u001b[0;34m,\u001b[0m \u001b[0mFlatten\u001b[0m\u001b[0;34m,\u001b[0m \u001b[0mDropout\u001b[0m\u001b[0;34m,\u001b[0m \u001b[0mZeroPadding3D\u001b[0m\u001b[0;34m\u001b[0m\u001b[0;34m\u001b[0m\u001b[0m\n\u001b[0m\u001b[1;32m      2\u001b[0m \u001b[0;32mfrom\u001b[0m \u001b[0mkeras\u001b[0m\u001b[0;34m.\u001b[0m\u001b[0mlayers\u001b[0m\u001b[0;34m.\u001b[0m\u001b[0mrecurrent\u001b[0m \u001b[0;32mimport\u001b[0m \u001b[0mLSTM\u001b[0m\u001b[0;34m\u001b[0m\u001b[0;34m\u001b[0m\u001b[0m\n\u001b[1;32m      3\u001b[0m \u001b[0;32mfrom\u001b[0m \u001b[0mkeras\u001b[0m\u001b[0;34m.\u001b[0m\u001b[0mmodels\u001b[0m \u001b[0;32mimport\u001b[0m \u001b[0mSequential\u001b[0m\u001b[0;34m,\u001b[0m \u001b[0mload_model\u001b[0m\u001b[0;34m\u001b[0m\u001b[0;34m\u001b[0m\u001b[0m\n\u001b[1;32m      4\u001b[0m \u001b[0;32mfrom\u001b[0m \u001b[0mkeras\u001b[0m\u001b[0;34m.\u001b[0m\u001b[0moptimizers\u001b[0m \u001b[0;32mimport\u001b[0m \u001b[0mAdam\u001b[0m\u001b[0;34m,\u001b[0m \u001b[0mRMSprop\u001b[0m\u001b[0;34m\u001b[0m\u001b[0;34m\u001b[0m\u001b[0m\n\u001b[1;32m      5\u001b[0m \u001b[0;32mfrom\u001b[0m \u001b[0mkeras\u001b[0m\u001b[0;34m.\u001b[0m\u001b[0mlayers\u001b[0m\u001b[0;34m.\u001b[0m\u001b[0mwrappers\u001b[0m \u001b[0;32mimport\u001b[0m \u001b[0mTimeDistributed\u001b[0m\u001b[0;34m\u001b[0m\u001b[0;34m\u001b[0m\u001b[0m\n",
            "\u001b[0;31mModuleNotFoundError\u001b[0m: No module named 'keras'"
          ]
        }
      ]
    },
    {
      "cell_type": "code",
      "metadata": {
        "id": "UIzcvv8BZC3t",
        "colab_type": "code",
        "colab": {}
      },
      "source": [
        "class ResearchModels():\n",
        "    def __init__(self, nb_classes, model, seq_length,\n",
        "                 saved_model=None, features_length=2048):\n",
        "\n",
        "        # Set defaults.\n",
        "        self.seq_length = seq_length\n",
        "        self.load_model = load_model\n",
        "        self.saved_model = saved_model\n",
        "        self.nb_classes = nb_classes\n",
        "        self.feature_queue = deque()\n",
        "\n",
        "        # Set the metrics. Only use top k if there's a need.\n",
        "        metrics = ['accuracy']\n",
        "        #if self.nb_classes >= 10:\n",
        "        #   metrics.append('top_k_categorical_accuracy')\n",
        "\n",
        "        # Get the appropriate model.\n",
        "        print(\"Loading LSTM model.\")\n",
        "        self.input_shape = (seq_length, features_length)\n",
        "        self.model = self.lstm()\n",
        "        # Now compile the network.\n",
        "        optimizer = Adam(lr=0.00005)\n",
        "        self.model.compile(loss='categorical_crossentropy', optimizer=optimizer,\n",
        "                           metrics=metrics)\n",
        "\n",
        "        print(self.model.summary())\n",
        "\n",
        "    def lstm(self):\n",
        "        \"\"\"Build a simple LSTM network. We pass the extracted features from\n",
        "        our CNN to this model predomenently.\"\"\"\n",
        "        # Model.\n",
        "    print self.input_shape\n",
        "        model = Sequential()\n",
        "        # 2048 means num of units in hidden layers\n",
        "        # return_sequences=True return-(samples,timesteps,features)--3D-- output for each timestep\n",
        "        # return_sequences=False return-（samples, features）--2D-- only output in the final timestep\n",
        "        # input_shape=(timestep,num of features) --don't need Batch_size(# of videoes)\n",
        "        model.add(LSTM(2048, return_sequences=True,\n",
        "                       input_shape=self.input_shape,\n",
        "                       dropout=0.5))\n",
        "        model.add(Flatten())\n",
        "        model.add(Dense(1024, activation='relu')) # add a densely-connected layer with 1024 units to the model\n",
        "        model.add(Dense(512, activation='relu'))# add a densely-connected layer with 512 units to the model\n",
        "        model.add(Dropout(0.5))\n",
        "        model.add(Dense(self.nb_classes, activation='softmax'))# add a softmax layer with 2 output units\n",
        "\n",
        "        return model\n"
      ],
      "execution_count": 0,
      "outputs": []
    }
  ]
}